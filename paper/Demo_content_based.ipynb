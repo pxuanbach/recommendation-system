{
  "nbformat": 4,
  "nbformat_minor": 0,
  "metadata": {
    "colab": {
      "provenance": []
    },
    "kernelspec": {
      "name": "python3",
      "display_name": "Python 3"
    },
    "language_info": {
      "name": "python"
    }
  },
  "cells": [
    {
      "cell_type": "markdown",
      "source": [
        "1. Chuẩn bị Data"
      ],
      "metadata": {
        "id": "2SoN2r1LRb5A"
      }
    },
    {
      "cell_type": "markdown",
      "source": [],
      "metadata": {
        "id": "FAg9vCOmRXot"
      }
    },
    {
      "cell_type": "code",
      "execution_count": 27,
      "metadata": {
        "id": "4SLifJE5RWvp"
      },
      "outputs": [],
      "source": [
        "import pandas as pd\n",
        "import numpy as np\n",
        "import matplotlib.pyplot as plt\n",
        "\n",
        "# Reading ratings file\n",
        "# Ignore the timestamp column\n",
        "ratings = pd.read_csv('ratings.csv', encoding='latin-1', usecols=['userId', 'movieId', 'rating'])\n",
        "\n",
        "# Reading users file\n",
        "users = pd.read_csv('users.csv', sep='\\t', encoding='latin-1', usecols=['user_id', 'gender', 'zipcode', 'age_desc', 'occ_desc'])\n",
        "\n",
        "# Reading movies file\n",
        "movies = pd.read_csv('movies.csv', encoding='latin-1', usecols=['movieId', 'title', 'genres'])"
      ]
    },
    {
      "cell_type": "markdown",
      "source": [
        "1.1 Ratings Dataset"
      ],
      "metadata": {
        "id": "iFKHpobNYb5-"
      }
    },
    {
      "cell_type": "code",
      "source": [
        "# Check the top 5 rows\n",
        "print(ratings.head())"
      ],
      "metadata": {
        "colab": {
          "base_uri": "https://localhost:8080/"
        },
        "id": "fP87W6bJYlrE",
        "outputId": "e98e76d0-7e8c-4459-8f1e-530c25c286f7"
      },
      "execution_count": 28,
      "outputs": [
        {
          "output_type": "stream",
          "name": "stdout",
          "text": [
            "   userId  movieId  rating\n",
            "0       1        1     4.0\n",
            "1       1        3     4.0\n",
            "2       1        6     4.0\n",
            "3       1       47     5.0\n",
            "4       1       50     5.0\n"
          ]
        }
      ]
    },
    {
      "cell_type": "code",
      "source": [
        "# Check the file info\n",
        "print(ratings.info())"
      ],
      "metadata": {
        "colab": {
          "base_uri": "https://localhost:8080/"
        },
        "id": "oWYsCAQtY6TJ",
        "outputId": "5cb1822e-0c88-4e89-8a4a-40dc36c53ba2"
      },
      "execution_count": 13,
      "outputs": [
        {
          "output_type": "stream",
          "name": "stdout",
          "text": [
            "<class 'pandas.core.frame.DataFrame'>\n",
            "RangeIndex: 40022 entries, 0 to 40021\n",
            "Data columns (total 3 columns):\n",
            " #   Column   Non-Null Count  Dtype  \n",
            "---  ------   --------------  -----  \n",
            " 0   userId   40022 non-null  int64  \n",
            " 1   movieId  40022 non-null  int64  \n",
            " 2   rating   40022 non-null  float64\n",
            "dtypes: float64(1), int64(2)\n",
            "memory usage: 938.1 KB\n",
            "None\n"
          ]
        }
      ]
    },
    {
      "cell_type": "markdown",
      "source": [
        "1.2. Users Dataset"
      ],
      "metadata": {
        "id": "b2oujbN6ZNa7"
      }
    },
    {
      "cell_type": "code",
      "source": [
        "# Check the top 5 rows\n",
        "print(users.head())"
      ],
      "metadata": {
        "colab": {
          "base_uri": "https://localhost:8080/"
        },
        "id": "3fv82oNsZTc1",
        "outputId": "a1e859ce-8e26-43fd-f8af-90d356086d64"
      },
      "execution_count": 29,
      "outputs": [
        {
          "output_type": "stream",
          "name": "stdout",
          "text": [
            "   user_id gender zipcode  age_desc              occ_desc\n",
            "0        1      F   48067  Under 18          K-12 student\n",
            "1        2      M   70072       56+         self-employed\n",
            "2        3      M   55117     25-34             scientist\n",
            "3        4      M   02460     45-49  executive/managerial\n",
            "4        5      M   55455     25-34                writer\n"
          ]
        }
      ]
    },
    {
      "cell_type": "code",
      "source": [
        "# Check the file info\n",
        "print(users.info())"
      ],
      "metadata": {
        "colab": {
          "base_uri": "https://localhost:8080/"
        },
        "id": "87AWDIP9ZYZr",
        "outputId": "1f38936f-b4a8-41de-e1aa-c318f633334e"
      },
      "execution_count": 30,
      "outputs": [
        {
          "output_type": "stream",
          "name": "stdout",
          "text": [
            "<class 'pandas.core.frame.DataFrame'>\n",
            "RangeIndex: 6040 entries, 0 to 6039\n",
            "Data columns (total 5 columns):\n",
            " #   Column    Non-Null Count  Dtype \n",
            "---  ------    --------------  ----- \n",
            " 0   user_id   6040 non-null   int64 \n",
            " 1   gender    6040 non-null   object\n",
            " 2   zipcode   6040 non-null   object\n",
            " 3   age_desc  6040 non-null   object\n",
            " 4   occ_desc  6040 non-null   object\n",
            "dtypes: int64(1), object(4)\n",
            "memory usage: 236.1+ KB\n",
            "None\n"
          ]
        }
      ]
    },
    {
      "cell_type": "markdown",
      "source": [
        "1.3. Movies Dataset"
      ],
      "metadata": {
        "id": "O44gRXtmZbRy"
      }
    },
    {
      "cell_type": "code",
      "source": [
        "# Check the top 5 rows\n",
        "print(movies.head())"
      ],
      "metadata": {
        "colab": {
          "base_uri": "https://localhost:8080/"
        },
        "id": "HoENKNS3Zdmt",
        "outputId": "4797075d-c09b-44a8-d84f-e70c85c4abce"
      },
      "execution_count": 31,
      "outputs": [
        {
          "output_type": "stream",
          "name": "stdout",
          "text": [
            "   movieId                               title  \\\n",
            "0        1                    Toy Story (1995)   \n",
            "1        2                      Jumanji (1995)   \n",
            "2        3             Grumpier Old Men (1995)   \n",
            "3        4            Waiting to Exhale (1995)   \n",
            "4        5  Father of the Bride Part II (1995)   \n",
            "\n",
            "                                        genres  \n",
            "0  Adventure|Animation|Children|Comedy|Fantasy  \n",
            "1                   Adventure|Children|Fantasy  \n",
            "2                               Comedy|Romance  \n",
            "3                         Comedy|Drama|Romance  \n",
            "4                                       Comedy  \n"
          ]
        }
      ]
    },
    {
      "cell_type": "code",
      "source": [
        "# Check the file info\n",
        "print(movies.info())"
      ],
      "metadata": {
        "colab": {
          "base_uri": "https://localhost:8080/"
        },
        "id": "jP-oDw08Zgqm",
        "outputId": "43173161-4779-4747-e791-f6914ce8e016"
      },
      "execution_count": 32,
      "outputs": [
        {
          "output_type": "stream",
          "name": "stdout",
          "text": [
            "<class 'pandas.core.frame.DataFrame'>\n",
            "RangeIndex: 9742 entries, 0 to 9741\n",
            "Data columns (total 3 columns):\n",
            " #   Column   Non-Null Count  Dtype \n",
            "---  ------   --------------  ----- \n",
            " 0   movieId  9742 non-null   int64 \n",
            " 1   title    9742 non-null   object\n",
            " 2   genres   9742 non-null   object\n",
            "dtypes: int64(1), object(2)\n",
            "memory usage: 228.5+ KB\n",
            "None\n"
          ]
        }
      ]
    },
    {
      "cell_type": "markdown",
      "source": [
        "2. Thực hiện\n",
        "\n",
        "Với tất cả những lý thuyết đó, tôi sẽ xây dựng một Công cụ đề xuất dựa trên nội dung để tính toán sự giống nhau giữa các bộ phim dựa trên thể loại phim. Nó sẽ gợi ý những bộ phim giống nhất với một bộ phim cụ thể dựa trên thể loại của nó. Để làm như vậy, tôi sẽ sử dụng tệp movies.csv."
      ],
      "metadata": {
        "id": "gjRvzRfxaGiR"
      }
    },
    {
      "cell_type": "code",
      "source": [
        "# Break up the big genre string into a string array\n",
        "movies['genres'] = movies['genres'].str.split('|')\n",
        "# Convert genres to string value\n",
        "movies['genres'] = movies['genres'].fillna(\"\").astype('str')"
      ],
      "metadata": {
        "id": "idzVtrfRaINo"
      },
      "execution_count": 44,
      "outputs": []
    },
    {
      "cell_type": "markdown",
      "source": [
        "Tôi không có số liệu định lượng để đánh giá hiệu suất của máy nên điều này sẽ phải được thực hiện một cách định tính. Để làm như vậy, tôi sẽ sử dụng hàm TfidfVectorizer từ scikit-learning, hàm này chuyển đổi văn bản thành các vectơ đặc trưng có thể được sử dụng làm đầu vào cho công cụ ước tính.\n"
      ],
      "metadata": {
        "id": "rpB7DNBbafgy"
      }
    },
    {
      "cell_type": "code",
      "source": [
        "from sklearn.feature_extraction.text import TfidfVectorizer\n",
        "tf = TfidfVectorizer(analyzer='word',ngram_range=(1, 2),min_df=0, stop_words='english')\n",
        "tfidf_matrix = tf.fit_transform(movies['genres'])\n",
        "tfidf_matrix.shape\n"
      ],
      "metadata": {
        "colab": {
          "base_uri": "https://localhost:8080/"
        },
        "id": "RWocH3olaRyZ",
        "outputId": "869e131d-05e5-4b60-fad1-f1a21506f118"
      },
      "execution_count": 34,
      "outputs": [
        {
          "output_type": "execute_result",
          "data": {
            "text/plain": [
              "(9742, 177)"
            ]
          },
          "metadata": {},
          "execution_count": 34
        }
      ]
    },
    {
      "cell_type": "markdown",
      "source": [
        "Tôi sẽ sử dụng Độ tương tự Cosine để tính toán một đại lượng biểu thị độ giống nhau giữa hai bộ phim. Vì chúng tôi đã sử dụng TF-IDF Vectorizer, nên việc tính toán Sản phẩm chấm sẽ trực tiếp cung cấp cho chúng tôi Điểm tương đồng Cosine. Do đó, chúng tôi sẽ sử dụng linear_kernel của sklearn thay vì cosine_similarities vì nó nhanh hơn nhiều."
      ],
      "metadata": {
        "id": "3_FX_NuDauU_"
      }
    },
    {
      "cell_type": "code",
      "source": [
        "from sklearn.metrics.pairwise import linear_kernel\n",
        "cosine_sim = linear_kernel(tfidf_matrix, tfidf_matrix)\n",
        "cosine_sim[:4, :4]"
      ],
      "metadata": {
        "colab": {
          "base_uri": "https://localhost:8080/"
        },
        "id": "3Nax6sWXa2nE",
        "outputId": "a0ad239e-72de-4775-cc78-948add9a5435"
      },
      "execution_count": 35,
      "outputs": [
        {
          "output_type": "execute_result",
          "data": {
            "text/plain": [
              "array([[1.        , 0.31379419, 0.0611029 , 0.05271111],\n",
              "       [0.31379419, 1.        , 0.        , 0.        ],\n",
              "       [0.0611029 , 0.        , 1.        , 0.35172407],\n",
              "       [0.05271111, 0.        , 0.35172407, 1.        ]])"
            ]
          },
          "metadata": {},
          "execution_count": 35
        }
      ]
    },
    {
      "cell_type": "markdown",
      "source": [
        "Bây giờ tôi có một ma trận tương tự cosine theo cặp cho tất cả các phim trong tập dữ liệu. Bước tiếp theo là viết một hàm trả về 20 phim giống nhau nhất dựa trên điểm tương tự cosine."
      ],
      "metadata": {
        "id": "2L6vJcj3a94M"
      }
    },
    {
      "cell_type": "code",
      "source": [
        "# Build a 1-dimensional array with movie titles\n",
        "titles = movies['title']\n",
        "indices = pd.Series(movies.index, index=movies['title'])\n",
        "\n",
        "# Function that get movie recommendations based on the cosine similarity score of movie genres\n",
        "def genre_recommendations(title):\n",
        "    idx = indices[title]\n",
        "    sim_scores = list(enumerate(cosine_sim[idx]))\n",
        "    sim_scores = sorted(sim_scores, key=lambda x: x[1], reverse=True)\n",
        "    sim_scores = sim_scores[1:21]\n",
        "    movie_indices = [i[0] for i in sim_scores]\n",
        "    return titles.iloc[movie_indices]"
      ],
      "metadata": {
        "id": "t2fHZS74a-sJ"
      },
      "execution_count": 36,
      "outputs": []
    },
    {
      "cell_type": "markdown",
      "source": [
        "Hãy thử và nhận các đề xuất hàng đầu cho một vài bộ phim và xem các đề xuất đó tốt như thế nào."
      ],
      "metadata": {
        "id": "wcjgeHwtbF9W"
      }
    },
    {
      "cell_type": "code",
      "source": [
        "genre_recommendations('Good Will Hunting (1997)').head(20)"
      ],
      "metadata": {
        "colab": {
          "base_uri": "https://localhost:8080/"
        },
        "id": "AgNw23bbbIT2",
        "outputId": "0a38a069-ee9c-4efb-ff40-70f62bef9d31"
      },
      "execution_count": 38,
      "outputs": [
        {
          "output_type": "execute_result",
          "data": {
            "text/plain": [
              "24                            Leaving Las Vegas (1995)\n",
              "27                                   Persuasion (1995)\n",
              "42                How to Make an American Quilt (1995)\n",
              "45                        When Night Is Falling (1995)\n",
              "66                                 Bed of Roses (1996)\n",
              "75     Once Upon a Time... When We Were Colored (1995)\n",
              "76                           Angels and Insects (1995)\n",
              "93               Bridges of Madison County, The (1995)\n",
              "115                       Up Close and Personal (1996)\n",
              "151                                    Mad Love (1995)\n",
              "162                         Scarlet Letter, The (1995)\n",
              "170                               Total Eclipse (1995)\n",
              "175                       Walk in the Clouds, A (1995)\n",
              "183                              Before Sunrise (1995)\n",
              "189                           Circle of Friends (1995)\n",
              "213                            Immortal Beloved (1994)\n",
              "232                                 Love Affair (1994)\n",
              "261                  Picture Bride (Bijo photo) (1994)\n",
              "262             Queen Margot (Reine Margot, La) (1994)\n",
              "338                    When a Man Loves a Woman (1994)\n",
              "Name: title, dtype: object"
            ]
          },
          "metadata": {},
          "execution_count": 38
        }
      ]
    },
    {
      "cell_type": "code",
      "source": [
        "genre_recommendations('Toy Story (1995)').head(20)"
      ],
      "metadata": {
        "colab": {
          "base_uri": "https://localhost:8080/"
        },
        "id": "0_5VZ2y_bPWs",
        "outputId": "fa721afa-5c60-4ca2-b6d1-63e79f35cec6"
      },
      "execution_count": 39,
      "outputs": [
        {
          "output_type": "execute_result",
          "data": {
            "text/plain": [
              "1706                                          Antz (1998)\n",
              "2355                                   Toy Story 2 (1999)\n",
              "2809       Adventures of Rocky and Bullwinkle, The (2000)\n",
              "3000                     Emperor's New Groove, The (2000)\n",
              "3568                                Monsters, Inc. (2001)\n",
              "6194                                     Wild, The (2006)\n",
              "6486                               Shrek the Third (2007)\n",
              "6948                       Tale of Despereaux, The (2008)\n",
              "7760    Asterix and the Vikings (AstÃ©rix et les Vikin...\n",
              "8219                                         Turbo (2013)\n",
              "8927                             The Good Dinosaur (2015)\n",
              "9430                                         Moana (2016)\n",
              "5490    Twelve Tasks of Asterix, The (Les douze travau...\n",
              "6448           TMNT (Teenage Mutant Ninja Turtles) (2007)\n",
              "8357                                The Lego Movie (2014)\n",
              "3194                                         Shrek (2001)\n",
              "7530                               Gnomeo & Juliet (2011)\n",
              "7805        Puss in Boots (Nagagutsu o haita neko) (1969)\n",
              "7184                                 Partly Cloudy (2009)\n",
              "7917                                        Presto (2008)\n",
              "Name: title, dtype: object"
            ]
          },
          "metadata": {},
          "execution_count": 39
        }
      ]
    },
    {
      "cell_type": "code",
      "source": [
        "genre_recommendations('Saving Private Ryan (1998)').head(20)"
      ],
      "metadata": {
        "colab": {
          "base_uri": "https://localhost:8080/"
        },
        "id": "w9v_2mE2bTcU",
        "outputId": "2f4acd16-82b8-4cbf-de74-ee3c609772a5"
      },
      "execution_count": 43,
      "outputs": [
        {
          "output_type": "execute_result",
          "data": {
            "text/plain": [
              "909                           Apocalypse Now (1979)\n",
              "933                    Boot, Das (Boat, The) (1981)\n",
              "1407          All Quiet on the Western Front (1930)\n",
              "1503                     Saving Private Ryan (1998)\n",
              "1826                      Thin Red Line, The (1998)\n",
              "2216                        Dirty Dozen, The (1967)\n",
              "2310                        Longest Day, The (1962)\n",
              "2313                       Tora! Tora! Tora! (1970)\n",
              "2573                                Red Dawn (1984)\n",
              "2631                  Force 10 from Navarone (1978)\n",
              "2716                   Fighting Seabees, The (1944)\n",
              "2808                            Patriot, The (2000)\n",
              "3610                      Behind Enemy Lines (2001)\n",
              "3646                         Black Hawk Down (2001)\n",
              "3724                        We Were Soldiers (2002)\n",
              "3856                             Windtalkers (2002)\n",
              "4114                                    Zulu (1964)\n",
              "4121      Victory (a.k.a. Escape to Victory) (1981)\n",
              "4243                       Gods and Generals (2003)\n",
              "5009    Alexander Nevsky (Aleksandr Nevskiy) (1938)\n",
              "Name: title, dtype: object"
            ]
          },
          "metadata": {},
          "execution_count": 43
        }
      ]
    },
    {
      "cell_type": "markdown",
      "source": [
        "Có thể thấy, tôi có một danh sách đề xuất kha khá cho Good Will Hunting (Phim chính kịch), Câu chuyện đồ chơi (Hoạt hình, Thiếu nhi, Hài) và Giải cứu binh nhì Ryan (Hành động, Kinh dị, Chiến tranh).\n",
        "\n",
        "Nhìn chung, đây là những ưu điểm của việc sử dụng đề xuất dựa trên nội dung:\n",
        "\n",
        "Không cần dữ liệu về người dùng khác, do đó không có vấn đề khởi động nguội hoặc thưa thớt.\n",
        "Có thể giới thiệu cho người dùng với thị hiếu độc đáo.\n",
        "Có thể giới thiệu các mặt hàng mới và không phổ biến.\n",
        "Có thể cung cấp giải thích cho các mục được đề xuất bằng cách liệt kê các tính năng nội dung khiến một mục được đề xuất (trong trường hợp này là thể loại phim)\n",
        "Tuy nhiên, có một số nhược điểm của việc sử dụng phương pháp này:\n",
        "\n",
        "Tìm kiếm các tính năng thích hợp là khó khăn.\n",
        "Không đề xuất các mục bên ngoài hồ sơ nội dung của người dùng.\n",
        "Không thể khai thác đánh giá chất lượng của người dùng khác."
      ],
      "metadata": {
        "id": "oLrkIZZWbjfD"
      }
    }
  ]
}