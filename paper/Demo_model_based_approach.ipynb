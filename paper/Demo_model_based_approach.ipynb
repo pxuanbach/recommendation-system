{
  "cells": [
    {
      "cell_type": "markdown",
      "metadata": {
        "colab_type": "text",
        "id": "view-in-github"
      },
      "source": [
        "<a href=\"https://colab.research.google.com/github/pxuanbach/recommendation-system/blob/main/Demo_model_based_approach.ipynb\" target=\"_parent\"><img src=\"https://colab.research.google.com/assets/colab-badge.svg\" alt=\"Open In Colab\"/></a>"
      ]
    },
    {
      "cell_type": "markdown",
      "metadata": {
        "id": "HkVZOmF3-KrU"
      },
      "source": [
        "# Demo model-based approach"
      ]
    },
    {
      "cell_type": "markdown",
      "metadata": {
        "id": "a4qLPOvD59jg"
      },
      "source": [
        "### 1. Cài đặt và thêm các package cần thiết"
      ]
    },
    {
      "cell_type": "code",
      "execution_count": 2,
      "metadata": {
        "id": "PUJKdcLs6Prd"
      },
      "outputs": [
        {
          "name": "stdout",
          "output_type": "stream",
          "text": [
            "Requirement already satisfied: pyspark in c:\\users\\back\\appdata\\local\\programs\\python\\python39\\lib\\site-packages (3.3.1)\n",
            "Requirement already satisfied: py4j==0.10.9.5 in c:\\users\\back\\appdata\\local\\programs\\python\\python39\\lib\\site-packages (from pyspark) (0.10.9.5)\n"
          ]
        },
        {
          "name": "stderr",
          "output_type": "stream",
          "text": [
            "WARNING: You are using pip version 20.2.3; however, version 22.3.1 is available.\n",
            "You should consider upgrading via the 'c:\\users\\back\\appdata\\local\\programs\\python\\python39\\python.exe -m pip install --upgrade pip' command.\n"
          ]
        },
        {
          "name": "stdout",
          "output_type": "stream",
          "text": [
            "Requirement already satisfied: pandas in c:\\users\\back\\appdata\\local\\programs\\python\\python39\\lib\\site-packages (1.5.2)\n",
            "Requirement already satisfied: numpy>=1.20.3; python_version < \"3.10\" in c:\\users\\back\\appdata\\local\\programs\\python\\python39\\lib\\site-packages (from pandas) (1.24.0)\n",
            "Requirement already satisfied: pytz>=2020.1 in c:\\users\\back\\appdata\\local\\programs\\python\\python39\\lib\\site-packages (from pandas) (2022.7)\n",
            "Requirement already satisfied: python-dateutil>=2.8.1 in c:\\users\\back\\appdata\\roaming\\python\\python39\\site-packages (from pandas) (2.8.2)\n",
            "Requirement already satisfied: six>=1.5 in c:\\users\\back\\appdata\\local\\programs\\python\\python39\\lib\\site-packages (from python-dateutil>=2.8.1->pandas) (1.16.0)\n"
          ]
        },
        {
          "name": "stderr",
          "output_type": "stream",
          "text": [
            "WARNING: You are using pip version 20.2.3; however, version 22.3.1 is available.\n",
            "You should consider upgrading via the 'c:\\users\\back\\appdata\\local\\programs\\python\\python39\\python.exe -m pip install --upgrade pip' command.\n"
          ]
        }
      ],
      "source": [
        "!pip install pyspark\n",
        "!pip install pandas"
      ]
    },
    {
      "cell_type": "code",
      "execution_count": 3,
      "metadata": {
        "id": "IOhmBy5-5wG2"
      },
      "outputs": [],
      "source": [
        "import pandas as pd\n",
        "from pyspark.sql.functions import col, explode\n",
        "from pyspark import SparkContext"
      ]
    },
    {
      "cell_type": "markdown",
      "metadata": {
        "id": "W2OocY7r6hjx"
      },
      "source": [
        "Tạo spark session"
      ]
    },
    {
      "cell_type": "code",
      "execution_count": 4,
      "metadata": {
        "id": "AbYXcI4T6kEB"
      },
      "outputs": [],
      "source": [
        "from pyspark.sql import SparkSession\n",
        "\n",
        "spark = SparkSession.builder.appName('Recommendations Demo').getOrCreate()"
      ]
    },
    {
      "cell_type": "markdown",
      "metadata": {
        "id": "cj2XSDbe6rm4"
      },
      "source": [
        "### 2. Tải dữ liệu lên"
      ]
    },
    {
      "cell_type": "code",
      "execution_count": 5,
      "metadata": {
        "id": "QPWPI0-s6tlG"
      },
      "outputs": [],
      "source": [
        "movies = spark.read.csv('movies.csv', header=True)\n",
        "ratings = spark.read.csv('ratings.csv', header=True)"
      ]
    },
    {
      "cell_type": "code",
      "execution_count": 6,
      "metadata": {
        "colab": {
          "base_uri": "https://localhost:8080/"
        },
        "id": "0D9qxR2l6wOc",
        "outputId": "e7c05fd0-ff2f-4fc5-e686-189574347148"
      },
      "outputs": [
        {
          "name": "stdout",
          "output_type": "stream",
          "text": [
            "+------+-------+------+---------+\n",
            "|userId|movieId|rating|timestamp|\n",
            "+------+-------+------+---------+\n",
            "|     1|      1|   4.0|964982703|\n",
            "|     1|      3|   4.0|964981247|\n",
            "|     1|      6|   4.0|964982224|\n",
            "|     1|     47|   5.0|964983815|\n",
            "|     1|     50|   5.0|964982931|\n",
            "|     1|     70|   3.0|964982400|\n",
            "|     1|    101|   5.0|964980868|\n",
            "|     1|    110|   4.0|964982176|\n",
            "|     1|    151|   5.0|964984041|\n",
            "|     1|    157|   5.0|964984100|\n",
            "|     1|    163|   5.0|964983650|\n",
            "|     1|    216|   5.0|964981208|\n",
            "|     1|    223|   3.0|964980985|\n",
            "|     1|    231|   5.0|964981179|\n",
            "|     1|    235|   4.0|964980908|\n",
            "|     1|    260|   5.0|964981680|\n",
            "|     1|    296|   3.0|964982967|\n",
            "|     1|    316|   3.0|964982310|\n",
            "|     1|    333|   5.0|964981179|\n",
            "|     1|    349|   4.0|964982563|\n",
            "+------+-------+------+---------+\n",
            "only showing top 20 rows\n",
            "\n"
          ]
        }
      ],
      "source": [
        "ratings.show()"
      ]
    },
    {
      "cell_type": "markdown",
      "metadata": {
        "id": "A6XUM0p799Z6"
      },
      "source": [
        "Chỉnh sửa schema"
      ]
    },
    {
      "cell_type": "code",
      "execution_count": 7,
      "metadata": {
        "colab": {
          "base_uri": "https://localhost:8080/"
        },
        "id": "svk8bTOL9_Qu",
        "outputId": "020f6852-1b35-410b-92d6-f5768ba529f6"
      },
      "outputs": [
        {
          "name": "stdout",
          "output_type": "stream",
          "text": [
            "+------+-------+------+\n",
            "|userId|movieId|rating|\n",
            "+------+-------+------+\n",
            "|     1|      1|   4.0|\n",
            "|     1|      3|   4.0|\n",
            "|     1|      6|   4.0|\n",
            "|     1|     47|   5.0|\n",
            "|     1|     50|   5.0|\n",
            "|     1|     70|   3.0|\n",
            "|     1|    101|   5.0|\n",
            "|     1|    110|   4.0|\n",
            "|     1|    151|   5.0|\n",
            "|     1|    157|   5.0|\n",
            "|     1|    163|   5.0|\n",
            "|     1|    216|   5.0|\n",
            "|     1|    223|   3.0|\n",
            "|     1|    231|   5.0|\n",
            "|     1|    235|   4.0|\n",
            "|     1|    260|   5.0|\n",
            "|     1|    296|   3.0|\n",
            "|     1|    316|   3.0|\n",
            "|     1|    333|   5.0|\n",
            "|     1|    349|   4.0|\n",
            "+------+-------+------+\n",
            "only showing top 20 rows\n",
            "\n"
          ]
        }
      ],
      "source": [
        "ratings = ratings.\\\n",
        "    withColumn('userId', col('userId').cast('integer')).\\\n",
        "    withColumn('movieId', col('movieId').cast('integer')).\\\n",
        "    withColumn('rating', col('rating').cast('float')).\\\n",
        "    drop('timestamp')\n",
        "ratings.show()"
      ]
    },
    {
      "cell_type": "markdown",
      "metadata": {
        "id": "kQDtz_Yk-DKi"
      },
      "source": [
        "### 3. Tính toán độ thưa thớt"
      ]
    },
    {
      "cell_type": "code",
      "execution_count": 8,
      "metadata": {
        "colab": {
          "base_uri": "https://localhost:8080/"
        },
        "id": "b4zE7bNx-ebP",
        "outputId": "4bf91a0b-3c50-4e8f-8587-2c853581e06b"
      },
      "outputs": [
        {
          "name": "stdout",
          "output_type": "stream",
          "text": [
            "Total number of ratings 40022\n",
            "Number users 274 Number movies 6222\n",
            "The ratings dataframe is  97.65% empty.\n"
          ]
        }
      ],
      "source": [
        "# Count the total number of ratings in the dataset\n",
        "numerator = ratings.select(\"rating\").count()\n",
        "print(\"Total number of ratings\", numerator)\n",
        "\n",
        "# Count the number of distinct userIds and distinct movieIds\n",
        "num_users = ratings.select(\"userId\").distinct().count()\n",
        "num_movies = ratings.select(\"movieId\").distinct().count()\n",
        "print(\"Number users\", num_users, \"Number movies\", num_movies)\n",
        "\n",
        "# Set the denominator equal to the number of users multiplied by the number of movies\n",
        "denominator = num_users * num_movies\n",
        "\n",
        "# Divide the numerator by the denominator\n",
        "sparsity = (1.0 - (numerator *1.0)/denominator)*100\n",
        "print(\"The ratings dataframe is \", \"%.2f\" % sparsity + \"% empty.\")"
      ]
    },
    {
      "cell_type": "markdown",
      "metadata": {
        "id": "OqNtN4r4_JvI"
      },
      "source": [
        "### 4. Nhóm dữ liệu bằng cách tính tổng số lượt ratings"
      ]
    },
    {
      "cell_type": "markdown",
      "metadata": {
        "id": "klPpJWqd_fdZ"
      },
      "source": [
        "Nhóm user"
      ]
    },
    {
      "cell_type": "code",
      "execution_count": 9,
      "metadata": {
        "colab": {
          "base_uri": "https://localhost:8080/"
        },
        "id": "42FweGtO_Vxc",
        "outputId": "9f13c320-affb-4819-ab2e-5d371b9c294c"
      },
      "outputs": [
        {
          "name": "stdout",
          "output_type": "stream",
          "text": [
            "+------+-----+\n",
            "|userId|count|\n",
            "+------+-----+\n",
            "|    68| 1260|\n",
            "|   249| 1046|\n",
            "|   182|  977|\n",
            "|   177|  904|\n",
            "|   232|  862|\n",
            "|   274|  793|\n",
            "|   105|  722|\n",
            "|    19|  703|\n",
            "|   111|  646|\n",
            "|   217|  613|\n",
            "|   140|  608|\n",
            "|    91|  575|\n",
            "|    28|  570|\n",
            "|   219|  528|\n",
            "|    89|  518|\n",
            "|    64|  517|\n",
            "|   226|  507|\n",
            "|    18|  502|\n",
            "|    57|  476|\n",
            "|    21|  443|\n",
            "+------+-----+\n",
            "only showing top 20 rows\n",
            "\n"
          ]
        }
      ],
      "source": [
        "# Group data by userId, count ratings\n",
        "userId_ratings = ratings.groupBy(\"userId\").count().orderBy('count', ascending=False)\n",
        "userId_ratings.show()"
      ]
    },
    {
      "cell_type": "markdown",
      "metadata": {
        "id": "2i2Ida0c_htS"
      },
      "source": [
        "Nhóm movie"
      ]
    },
    {
      "cell_type": "code",
      "execution_count": 10,
      "metadata": {
        "colab": {
          "base_uri": "https://localhost:8080/"
        },
        "id": "S4gif2y4_jCU",
        "outputId": "d5f748bb-f41c-4764-f58c-8af8ae4aa6c1"
      },
      "outputs": [
        {
          "name": "stdout",
          "output_type": "stream",
          "text": [
            "+-------+-----+\n",
            "|movieId|count|\n",
            "+-------+-----+\n",
            "|    296|  144|\n",
            "|    356|  144|\n",
            "|    318|  140|\n",
            "|   2571|  129|\n",
            "|    593|  125|\n",
            "|    260|  113|\n",
            "|    110|  104|\n",
            "|    480|  103|\n",
            "|   1196|  102|\n",
            "|    589|  100|\n",
            "|      1|   99|\n",
            "|   1210|   96|\n",
            "|   1198|   96|\n",
            "|    780|   95|\n",
            "|     47|   95|\n",
            "|    150|   94|\n",
            "|   2858|   90|\n",
            "|    527|   90|\n",
            "|    592|   89|\n",
            "|   2028|   89|\n",
            "+-------+-----+\n",
            "only showing top 20 rows\n",
            "\n"
          ]
        }
      ],
      "source": [
        "# Group data by movieId, count ratings\n",
        "movieId_ratings = ratings.groupBy(\"movieId\").count().orderBy('count', ascending=False)\n",
        "movieId_ratings.show()"
      ]
    },
    {
      "cell_type": "markdown",
      "metadata": {
        "id": "LtC_2X2R_uMB"
      },
      "source": [
        "### 5. Xây dựng mô hình ALS"
      ]
    },
    {
      "cell_type": "code",
      "execution_count": 11,
      "metadata": {
        "id": "Ppyuetvv_xt_"
      },
      "outputs": [],
      "source": [
        "from pyspark.ml.recommendation import ALS"
      ]
    },
    {
      "cell_type": "code",
      "execution_count": 12,
      "metadata": {
        "colab": {
          "base_uri": "https://localhost:8080/"
        },
        "id": "zawHWfta_1CN",
        "outputId": "96709a37-c325-473d-cf72-49e585147501"
      },
      "outputs": [
        {
          "data": {
            "text/plain": [
              "pyspark.ml.recommendation.ALS"
            ]
          },
          "execution_count": 12,
          "metadata": {},
          "output_type": "execute_result"
        }
      ],
      "source": [
        "# Create test and train set\n",
        "(train, test) = ratings.randomSplit([0.8, 0.2], seed = 1234)\n",
        "\n",
        "# Create ALS model\n",
        "als = ALS(userCol=\"userId\", itemCol=\"movieId\", ratingCol=\"rating\", nonnegative = True, implicitPrefs = False, coldStartStrategy=\"drop\")\n",
        "\n",
        "# Confirm that a model called \"als\" was created\n",
        "type(als)"
      ]
    },
    {
      "cell_type": "markdown",
      "metadata": {
        "id": "U9tvd4YjAS_C"
      },
      "source": [
        "Điều chỉnh siêu tham số cho ALS model\n",
        "- rank (rank of the factorization) hạng của thừa số hóa.\n",
        "- regParam (regularization parameter (>= 0)) là tham số chính quy hóa."
      ]
    },
    {
      "cell_type": "code",
      "execution_count": 13,
      "metadata": {
        "id": "A9xpWNz7AYJi"
      },
      "outputs": [],
      "source": [
        "# Import the requisite items\n",
        "from pyspark.ml.evaluation import RegressionEvaluator\n",
        "from pyspark.ml.tuning import ParamGridBuilder, CrossValidator\n",
        "\n",
        "# Add hyperparameters and their respective values to param_grid\n",
        "param_grid = ParamGridBuilder() \\\n",
        "            .addGrid(als.rank, [10, 50, 100]) \\\n",
        "            .addGrid(als.regParam, [.01, .05, .1]) \\\n",
        "            .build()"
      ]
    },
    {
      "cell_type": "markdown",
      "metadata": {
        "id": "tHsB3l2jBkI0"
      },
      "source": [
        "Sau đó tạo RegressionEvaluator"
      ]
    },
    {
      "cell_type": "code",
      "execution_count": 14,
      "metadata": {
        "colab": {
          "base_uri": "https://localhost:8080/"
        },
        "id": "BBBy-sSSByxe",
        "outputId": "f868d05e-25a6-49b9-8f45-300c7e039cb3"
      },
      "outputs": [
        {
          "name": "stdout",
          "output_type": "stream",
          "text": [
            "Num models to be tested:  9\n"
          ]
        }
      ],
      "source": [
        "# Define evaluator as RMSE and print length of evaluator\n",
        "evaluator = RegressionEvaluator(\n",
        "           metricName=\"rmse\", \n",
        "           labelCol=\"rating\", \n",
        "           predictionCol=\"prediction\") \n",
        "print (\"Num models to be tested: \", len(param_grid))"
      ]
    },
    {
      "cell_type": "code",
      "execution_count": 15,
      "metadata": {
        "id": "tJU7DDNICAco"
      },
      "outputs": [],
      "source": [
        "# Build cross validation using CrossValidator\n",
        "cv = CrossValidator(estimator=als, estimatorParamMaps=param_grid, evaluator=evaluator, numFolds=5)"
      ]
    },
    {
      "cell_type": "markdown",
      "metadata": {
        "id": "cVNGBqNMCELD"
      },
      "source": [
        "### 6. Kiểm tra các thông số được lựa chọn cho mô hình tốt nhất"
      ]
    },
    {
      "cell_type": "code",
      "execution_count": 16,
      "metadata": {
        "id": "zLvQzplNCbWd"
      },
      "outputs": [],
      "source": [
        "#Fit cross validator to the 'train' dataset\n",
        "model = cv.fit(train)\n",
        "\n",
        "#Extract best model from the cv model above\n",
        "best_model = model.bestModel"
      ]
    },
    {
      "cell_type": "code",
      "execution_count": 17,
      "metadata": {
        "colab": {
          "base_uri": "https://localhost:8080/"
        },
        "id": "omgksmj8CTto",
        "outputId": "b7e647b1-0577-4e33-affe-b12d28b249f8"
      },
      "outputs": [
        {
          "name": "stdout",
          "output_type": "stream",
          "text": [
            "**Best Model**\n",
            "  Rank: 50\n",
            "  MaxIter: 10\n",
            "  RegParam: 0.1\n"
          ]
        }
      ],
      "source": [
        "print(\"**Best Model**\")\n",
        "# Print \"Rank\"\n",
        "print(\"  Rank:\", best_model._java_obj.parent().getRank())\n",
        "# Print \"MaxIter\"\n",
        "print(\"  MaxIter:\", best_model._java_obj.parent().getMaxIter())\n",
        "# Print \"RegParam\"\n",
        "print(\"  RegParam:\", best_model._java_obj.parent().getRegParam())"
      ]
    },
    {
      "cell_type": "markdown",
      "metadata": {
        "id": "3ZCF1FsqCo65"
      },
      "source": [
        "Xem thử dự đoán"
      ]
    },
    {
      "cell_type": "code",
      "execution_count": 18,
      "metadata": {
        "colab": {
          "base_uri": "https://localhost:8080/"
        },
        "id": "o9nU-kEwCquS",
        "outputId": "ab69343b-2c31-48d8-e916-e5d568239887"
      },
      "outputs": [
        {
          "name": "stdout",
          "output_type": "stream",
          "text": [
            "0.9508391969538728\n"
          ]
        }
      ],
      "source": [
        "# View the predictions\n",
        "test_predictions = best_model.transform(test)\n",
        "RMSE = evaluator.evaluate(test_predictions)\n",
        "print(RMSE)"
      ]
    },
    {
      "cell_type": "code",
      "execution_count": 19,
      "metadata": {
        "colab": {
          "base_uri": "https://localhost:8080/"
        },
        "id": "k-SxQo9TflRr",
        "outputId": "c9f805b1-7096-4d95-cc51-1cb0b492ba9c"
      },
      "outputs": [
        {
          "name": "stdout",
          "output_type": "stream",
          "text": [
            "+------+-------+------+----------+\n",
            "|userId|movieId|rating|prediction|\n",
            "+------+-------+------+----------+\n",
            "|   108|   1959|   5.0| 3.6163511|\n",
            "|    27|   1580|   3.0| 3.5685546|\n",
            "|    91|   2122|   4.0| 2.9548247|\n",
            "|   157|   3175|   2.0|  3.020327|\n",
            "|   232|   1580|   3.5| 3.6259668|\n",
            "|   232|  44022|   3.0| 3.0323167|\n",
            "|   246|   1645|   4.0| 3.5433238|\n",
            "|   111|   1088|   3.0| 3.1760604|\n",
            "|   111|   3175|   3.5| 2.5303776|\n",
            "|    47|   1580|   1.5|  2.616227|\n",
            "|   140|   1580|   3.0| 3.6753461|\n",
            "|   177|   1088|   3.5| 3.5705066|\n",
            "|   177|   3175|   2.0| 3.3265479|\n",
            "|   177|  54190|   3.0| 3.6506042|\n",
            "|   274|   1580|   3.0| 3.5256872|\n",
            "|   182|   1645|   4.5| 2.8011944|\n",
            "|   218|    471|   4.0| 2.4002144|\n",
            "|   164|   1580|   5.0|  4.081864|\n",
            "|    57|   1580|   4.0| 3.3240213|\n",
            "|    48|   1580|   5.0|  3.830766|\n",
            "+------+-------+------+----------+\n",
            "only showing top 20 rows\n",
            "\n"
          ]
        }
      ],
      "source": [
        "test_predictions.show()"
      ]
    },
    {
      "cell_type": "markdown",
      "metadata": {
        "id": "sI-l1ETPfvjZ"
      },
      "source": [
        "### 7. Đưa ra đề xuất"
      ]
    },
    {
      "cell_type": "code",
      "execution_count": 20,
      "metadata": {
        "colab": {
          "base_uri": "https://localhost:8080/"
        },
        "id": "9EVfMbAff4Iv",
        "outputId": "8ca7d523-edd4-4835-e6dd-715ebb65a411"
      },
      "outputs": [
        {
          "name": "stdout",
          "output_type": "stream",
          "text": [
            "+------+--------------------+\n",
            "|userId|     recommendations|\n",
            "+------+--------------------+\n",
            "|     1|[{1658, 5.449532}...|\n",
            "|     2|[{131724, 4.89935...|\n",
            "|     3|[{70946, 4.918158...|\n",
            "|     4|[{2204, 4.9472127...|\n",
            "|     5|[{290, 4.601255},...|\n",
            "|     6|[{86, 4.735807}, ...|\n",
            "|     7|[{1658, 4.5731373...|\n",
            "|     8|[{1250, 4.629879}...|\n",
            "|     9|[{1250, 4.909774}...|\n",
            "|    10|[{71579, 4.859548...|\n",
            "+------+--------------------+\n",
            "\n"
          ]
        }
      ],
      "source": [
        "# Generate n Recommendations for all users\n",
        "nrecommendations = best_model.recommendForAllUsers(10)\n",
        "nrecommendations.limit(10).show()"
      ]
    },
    {
      "cell_type": "code",
      "execution_count": 21,
      "metadata": {
        "colab": {
          "base_uri": "https://localhost:8080/"
        },
        "id": "sXM4ziP4f-0s",
        "outputId": "129aa071-9ec0-4dad-d954-b167506ba00c"
      },
      "outputs": [
        {
          "name": "stdout",
          "output_type": "stream",
          "text": [
            "+------+-------+---------+\n",
            "|userId|movieId|   rating|\n",
            "+------+-------+---------+\n",
            "|     1|   1658| 5.449532|\n",
            "|     1|   5690|5.2656765|\n",
            "|     1| 177593|5.2583165|\n",
            "|     1|   1250| 5.232299|\n",
            "|     1|  58559|5.2072616|\n",
            "|     1|   7842|5.1700296|\n",
            "|     1|  91529| 5.144352|\n",
            "|     1| 142488| 5.107275|\n",
            "|     1|   1262| 5.104297|\n",
            "|     1|   1284|5.1007767|\n",
            "+------+-------+---------+\n",
            "\n"
          ]
        }
      ],
      "source": [
        "nrecommendations = nrecommendations\\\n",
        "    .withColumn(\"rec_exp\", explode(\"recommendations\"))\\\n",
        "    .select('userId', col(\"rec_exp.movieId\"), col(\"rec_exp.rating\"))\n",
        "\n",
        "nrecommendations.limit(10).show()"
      ]
    },
    {
      "cell_type": "markdown",
      "metadata": {
        "id": "OZg_HQ5NgRDp"
      },
      "source": [
        "### 8. Các đề xuất có hợp lý không?"
      ]
    },
    {
      "cell_type": "code",
      "execution_count": 22,
      "metadata": {
        "colab": {
          "base_uri": "https://localhost:8080/"
        },
        "id": "tvrtI-hvgS3d",
        "outputId": "6ef2601a-8856-41ef-9702-66394ab14b99"
      },
      "outputs": [
        {
          "name": "stdout",
          "output_type": "stream",
          "text": [
            "+-------+------+---------+--------------------+--------------------+\n",
            "|movieId|userId|   rating|               title|              genres|\n",
            "+-------+------+---------+--------------------+--------------------+\n",
            "| 104374|   100| 4.808572|   About Time (2013)|Drama|Fantasy|Rom...|\n",
            "|   1658|   100|4.7759185|Life Less Ordinar...|    Romance|Thriller|\n",
            "|   1958|   100| 4.756839|Terms of Endearme...|        Comedy|Drama|\n",
            "|   1250|   100|4.6927924|Bridge on the Riv...| Adventure|Drama|War|\n",
            "|   4041|   100|4.6832404|Officer and a Gen...|       Drama|Romance|\n",
            "|   1272|   100| 4.682291|       Patton (1970)|           Drama|War|\n",
            "|  92259|   100| 4.651993| Intouchables (2011)|        Comedy|Drama|\n",
            "|   1284|   100| 4.638865|Big Sleep, The (1...|Crime|Film-Noir|M...|\n",
            "|  58559|   100| 4.622719|Dark Knight, The ...|Action|Crime|Dram...|\n",
            "|   5690|   100| 4.618061|Grave of the Fire...| Animation|Drama|War|\n",
            "+-------+------+---------+--------------------+--------------------+\n",
            "\n"
          ]
        }
      ],
      "source": [
        "nrecommendations.join(movies, on='movieId').filter('userId = 100').show()"
      ]
    },
    {
      "cell_type": "code",
      "execution_count": 23,
      "metadata": {
        "colab": {
          "base_uri": "https://localhost:8080/"
        },
        "id": "vpt52f6pgZww",
        "outputId": "3d9294e3-4420-4253-b980-76804087441f"
      },
      "outputs": [
        {
          "name": "stdout",
          "output_type": "stream",
          "text": [
            "+-------+------+------+--------------------+--------------------+\n",
            "|movieId|userId|rating|               title|              genres|\n",
            "+-------+------+------+--------------------+--------------------+\n",
            "|   2423|   100|   5.0|Christmas Vacatio...|              Comedy|\n",
            "|   1101|   100|   5.0|      Top Gun (1986)|      Action|Romance|\n",
            "|   4041|   100|   5.0|Officer and a Gen...|       Drama|Romance|\n",
            "|   1958|   100|   5.0|Terms of Endearme...|        Comedy|Drama|\n",
            "|   5620|   100|   5.0|Sweet Home Alabam...|      Comedy|Romance|\n",
            "|    919|   100|   4.5|Wizard of Oz, The...|Adventure|Childre...|\n",
            "|    934|   100|   4.5|Father of the Bri...|              Comedy|\n",
            "|     28|   100|   4.5|   Persuasion (1995)|       Drama|Romance|\n",
            "|     95|   100|   4.5| Broken Arrow (1996)|Action|Adventure|...|\n",
            "|   1028|   100|   4.5| Mary Poppins (1964)|Children|Comedy|F...|\n",
            "|   1091|   100|   4.5|Weekend at Bernie...|              Comedy|\n",
            "|     16|   100|   4.5|       Casino (1995)|         Crime|Drama|\n",
            "|   1246|   100|   4.5|Dead Poets Societ...|               Drama|\n",
            "|   1278|   100|   4.5|Young Frankenstei...|      Comedy|Fantasy|\n",
            "|   1500|   100|   4.5|Grosse Pointe Bla...|Comedy|Crime|Romance|\n",
            "|    261|   100|   4.5| Little Women (1994)|               Drama|\n",
            "|    539|   100|   4.5|Sleepless in Seat...|Comedy|Drama|Romance|\n",
            "|    597|   100|   4.5| Pretty Woman (1990)|      Comedy|Romance|\n",
            "|    838|   100|   4.5|         Emma (1996)|Comedy|Drama|Romance|\n",
            "|   1441|   100|   4.5| Benny & Joon (1993)|      Comedy|Romance|\n",
            "+-------+------+------+--------------------+--------------------+\n",
            "only showing top 20 rows\n",
            "\n"
          ]
        }
      ],
      "source": [
        "ratings.join(movies, on='movieId').filter('userId = 100').sort('rating', ascending=False).show()"
      ]
    },
    {
      "attachments": {},
      "cell_type": "markdown",
      "metadata": {},
      "source": [
        "### 9. Lưu model"
      ]
    },
    {
      "cell_type": "code",
      "execution_count": 24,
      "metadata": {},
      "outputs": [],
      "source": [
        "save_model_path = \"trained\"\n",
        "best_model.save(path=save_model_path)"
      ]
    },
    {
      "attachments": {},
      "cell_type": "markdown",
      "metadata": {},
      "source": [
        "### 10. Sử dụng lại model đã lưu"
      ]
    },
    {
      "cell_type": "code",
      "execution_count": 25,
      "metadata": {},
      "outputs": [],
      "source": [
        "from pyspark.ml.recommendation import ALS, ALSModel\n",
        "\n",
        "saved_model = ALSModel.load(save_model_path)"
      ]
    },
    {
      "cell_type": "code",
      "execution_count": 26,
      "metadata": {},
      "outputs": [
        {
          "name": "stdout",
          "output_type": "stream",
          "text": [
            "+------+--------------------+\n",
            "|userId|     recommendations|\n",
            "+------+--------------------+\n",
            "|     1|[{1658, 5.449532}...|\n",
            "|     2|[{131724, 4.89935...|\n",
            "|     3|[{6835, 4.9181585...|\n",
            "|     4|[{1733, 4.9472127...|\n",
            "|     5|[{290, 4.601255},...|\n",
            "|     6|[{86, 4.735807}, ...|\n",
            "|     7|[{1658, 4.5731373...|\n",
            "|     8|[{1250, 4.629879}...|\n",
            "|     9|[{1250, 4.909774}...|\n",
            "|    10|[{71579, 4.859548...|\n",
            "+------+--------------------+\n",
            "\n"
          ]
        }
      ],
      "source": [
        "# Generate n Recommendations for all users\n",
        "nloadrecommendations = saved_model.recommendForAllUsers(10)\n",
        "nloadrecommendations.limit(10).show()"
      ]
    },
    {
      "cell_type": "code",
      "execution_count": 27,
      "metadata": {},
      "outputs": [
        {
          "name": "stdout",
          "output_type": "stream",
          "text": [
            "+------+-------+---------+\n",
            "|userId|movieId|   rating|\n",
            "+------+-------+---------+\n",
            "|     1|   1658| 5.449532|\n",
            "|     1|   5690|5.2656765|\n",
            "|     1| 177593|5.2583165|\n",
            "|     1|   1250| 5.232299|\n",
            "|     1|  58559|5.2072616|\n",
            "|     1|   7842|5.1700296|\n",
            "|     1|  91529| 5.144352|\n",
            "|     1| 142488| 5.107275|\n",
            "|     1|   1262| 5.104297|\n",
            "|     1|   1284|5.1007767|\n",
            "+------+-------+---------+\n",
            "\n"
          ]
        }
      ],
      "source": [
        "nloadrecommendations = nloadrecommendations\\\n",
        "    .withColumn(\"rec_exp\", explode(\"recommendations\"))\\\n",
        "    .select('userId', col(\"rec_exp.movieId\"), col(\"rec_exp.rating\"))\n",
        "\n",
        "nloadrecommendations.limit(10).show()"
      ]
    },
    {
      "cell_type": "code",
      "execution_count": 30,
      "metadata": {},
      "outputs": [
        {
          "name": "stdout",
          "output_type": "stream",
          "text": [
            "+-------+------+---------+--------------------+--------------------+\n",
            "|movieId|userId|   rating|               title|              genres|\n",
            "+-------+------+---------+--------------------+--------------------+\n",
            "|  71579|    10| 4.859548|Education, An (2009)|       Drama|Romance|\n",
            "| 136020|    10| 4.756951|      Spectre (2015)|Action|Adventure|...|\n",
            "|  92259|    10| 4.545877| Intouchables (2011)|        Comedy|Drama|\n",
            "|  49286|    10|4.4758935| Holiday, The (2006)|      Comedy|Romance|\n",
            "| 113275|    10| 4.431754|The Hundred-Foot ...|        Comedy|Drama|\n",
            "|  94070|    10| 4.431754|Best Exotic Marig...|        Comedy|Drama|\n",
            "|  51705|    10| 4.431754|Priceless (Hors d...|      Comedy|Romance|\n",
            "|   7169|    10| 4.409439|Chasing Liberty (...|      Comedy|Romance|\n",
            "|  79091|    10| 4.321845|Despicable Me (2010)|Animation|Childre...|\n",
            "|  69406|    10|4.2109447|Proposal, The (2009)|      Comedy|Romance|\n",
            "+-------+------+---------+--------------------+--------------------+\n",
            "\n"
          ]
        }
      ],
      "source": [
        "nloadrecommendations.join(movies, on='movieId').filter('userId = 10').show()"
      ]
    },
    {
      "cell_type": "code",
      "execution_count": 31,
      "metadata": {},
      "outputs": [
        {
          "name": "stdout",
          "output_type": "stream",
          "text": [
            "+-------+------+------+--------------------+--------------------+\n",
            "|movieId|userId|rating|               title|              genres|\n",
            "+-------+------+------+--------------------+--------------------+\n",
            "|   7458|    10|   5.0|         Troy (2004)|Action|Adventure|...|\n",
            "|  49286|    10|   5.0| Holiday, The (2006)|      Comedy|Romance|\n",
            "|   8869|    10|   5.0|First Daughter (2...|      Comedy|Romance|\n",
            "|   8533|    10|   5.0|Notebook, The (2004)|       Drama|Romance|\n",
            "|  92259|    10|   5.0| Intouchables (2011)|        Comedy|Drama|\n",
            "|  96079|    10|   5.0|      Skyfall (2012)|Action|Adventure|...|\n",
            "| 136020|    10|   5.0|      Spectre (2015)|Action|Adventure|...|\n",
            "| 140110|    10|   5.0|   The Intern (2015)|              Comedy|\n",
            "|  71579|    10|   5.0|Education, An (2009)|       Drama|Romance|\n",
            "|  79091|    10|   5.0|Despicable Me (2010)|Animation|Childre...|\n",
            "|  33794|    10|   5.0|Batman Begins (2005)|   Action|Crime|IMAX|\n",
            "|  81845|    10|   5.0|King's Speech, Th...|               Drama|\n",
            "|  91529|    10|   5.0|Dark Knight Rises...|Action|Adventure|...|\n",
            "|  49272|    10|   5.0|Casino Royale (2006)|Action|Adventure|...|\n",
            "|   4447|    10|   4.5|Legally Blonde (2...|      Comedy|Romance|\n",
            "|   7169|    10|   4.5|Chasing Liberty (...|      Comedy|Romance|\n",
            "|   4306|    10|   4.5|        Shrek (2001)|Adventure|Animati...|\n",
            "|  58559|    10|   4.5|Dark Knight, The ...|Action|Crime|Dram...|\n",
            "|  31685|    10|   4.5|        Hitch (2005)|      Comedy|Romance|\n",
            "|  63992|    10|   4.5|     Twilight (2008)|Drama|Fantasy|Rom...|\n",
            "+-------+------+------+--------------------+--------------------+\n",
            "only showing top 20 rows\n",
            "\n"
          ]
        }
      ],
      "source": [
        "ratings.join(movies, on='movieId').filter('userId = 10').sort('rating', ascending=False).show()"
      ]
    }
  ],
  "metadata": {
    "colab": {
      "authorship_tag": "ABX9TyNJtyr0ysUF/Z6cNQ5t1L9v",
      "collapsed_sections": [],
      "include_colab_link": true,
      "provenance": [],
      "toc_visible": true
    },
    "kernelspec": {
      "display_name": "Python 3",
      "language": "python",
      "name": "python3"
    },
    "language_info": {
      "codemirror_mode": {
        "name": "ipython",
        "version": 3
      },
      "file_extension": ".py",
      "mimetype": "text/x-python",
      "name": "python",
      "nbconvert_exporter": "python",
      "pygments_lexer": "ipython3",
      "version": "3.9.0"
    },
    "vscode": {
      "interpreter": {
        "hash": "5f0f3744a15961e348356f9827a4657b97c13f71aaaccbaf1aecedcda23e9227"
      }
    }
  },
  "nbformat": 4,
  "nbformat_minor": 0
}
