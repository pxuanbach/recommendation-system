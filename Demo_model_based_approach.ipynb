{
  "nbformat": 4,
  "nbformat_minor": 0,
  "metadata": {
    "colab": {
      "provenance": [],
      "collapsed_sections": [],
      "toc_visible": true,
      "authorship_tag": "ABX9TyNJtyr0ysUF/Z6cNQ5t1L9v",
      "include_colab_link": true
    },
    "kernelspec": {
      "name": "python3",
      "display_name": "Python 3"
    },
    "language_info": {
      "name": "python"
    }
  },
  "cells": [
    {
      "cell_type": "markdown",
      "metadata": {
        "id": "view-in-github",
        "colab_type": "text"
      },
      "source": [
        "<a href=\"https://colab.research.google.com/github/pxuanbach/recommendation-system/blob/main/Demo_model_based_approach.ipynb\" target=\"_parent\"><img src=\"https://colab.research.google.com/assets/colab-badge.svg\" alt=\"Open In Colab\"/></a>"
      ]
    },
    {
      "cell_type": "markdown",
      "source": [
        "# Demo model-based approach"
      ],
      "metadata": {
        "id": "HkVZOmF3-KrU"
      }
    },
    {
      "cell_type": "markdown",
      "source": [
        "### 1. Cài đặt và thêm các package cần thiết"
      ],
      "metadata": {
        "id": "a4qLPOvD59jg"
      }
    },
    {
      "cell_type": "code",
      "source": [
        "!pip install pyspark"
      ],
      "metadata": {
        "id": "PUJKdcLs6Prd"
      },
      "execution_count": null,
      "outputs": []
    },
    {
      "cell_type": "code",
      "execution_count": null,
      "metadata": {
        "id": "IOhmBy5-5wG2"
      },
      "outputs": [],
      "source": [
        "import pandas as pd\n",
        "from pyspark.sql.functions import col, explode\n",
        "from pyspark import SparkContext"
      ]
    },
    {
      "cell_type": "markdown",
      "source": [
        "Tạo spark session"
      ],
      "metadata": {
        "id": "W2OocY7r6hjx"
      }
    },
    {
      "cell_type": "code",
      "source": [
        "from pyspark.sql import SparkSession\n",
        "\n",
        "spark = SparkSession.builder.appName('Recommendations Demo').getOrCreate()"
      ],
      "metadata": {
        "id": "AbYXcI4T6kEB"
      },
      "execution_count": null,
      "outputs": []
    },
    {
      "cell_type": "markdown",
      "source": [
        "### 2. Tải dữ liệu lên"
      ],
      "metadata": {
        "id": "cj2XSDbe6rm4"
      }
    },
    {
      "cell_type": "code",
      "source": [
        "movies = spark.read.csv('movies.csv', header=True)\n",
        "ratings = spark.read.csv('ratings.csv', header=True)"
      ],
      "metadata": {
        "id": "QPWPI0-s6tlG"
      },
      "execution_count": 8,
      "outputs": []
    },
    {
      "cell_type": "code",
      "source": [
        "ratings.show()"
      ],
      "metadata": {
        "id": "0D9qxR2l6wOc",
        "colab": {
          "base_uri": "https://localhost:8080/"
        },
        "outputId": "e7c05fd0-ff2f-4fc5-e686-189574347148"
      },
      "execution_count": 9,
      "outputs": [
        {
          "output_type": "stream",
          "name": "stdout",
          "text": [
            "+------+-------+------+---------+\n",
            "|userId|movieId|rating|timestamp|\n",
            "+------+-------+------+---------+\n",
            "|     1|      1|   4.0|964982703|\n",
            "|     1|      3|   4.0|964981247|\n",
            "|     1|      6|   4.0|964982224|\n",
            "|     1|     47|   5.0|964983815|\n",
            "|     1|     50|   5.0|964982931|\n",
            "|     1|     70|   3.0|964982400|\n",
            "|     1|    101|   5.0|964980868|\n",
            "|     1|    110|   4.0|964982176|\n",
            "|     1|    151|   5.0|964984041|\n",
            "|     1|    157|   5.0|964984100|\n",
            "|     1|    163|   5.0|964983650|\n",
            "|     1|    216|   5.0|964981208|\n",
            "|     1|    223|   3.0|964980985|\n",
            "|     1|    231|   5.0|964981179|\n",
            "|     1|    235|   4.0|964980908|\n",
            "|     1|    260|   5.0|964981680|\n",
            "|     1|    296|   3.0|964982967|\n",
            "|     1|    316|   3.0|964982310|\n",
            "|     1|    333|   5.0|964981179|\n",
            "|     1|    349|   4.0|964982563|\n",
            "+------+-------+------+---------+\n",
            "only showing top 20 rows\n",
            "\n"
          ]
        }
      ]
    },
    {
      "cell_type": "markdown",
      "source": [
        "Chỉnh sửa schema"
      ],
      "metadata": {
        "id": "A6XUM0p799Z6"
      }
    },
    {
      "cell_type": "code",
      "source": [
        "ratings = ratings.\\\n",
        "    withColumn('userId', col('userId').cast('integer')).\\\n",
        "    withColumn('movieId', col('movieId').cast('integer')).\\\n",
        "    withColumn('rating', col('rating').cast('float')).\\\n",
        "    drop('timestamp')\n",
        "ratings.show()"
      ],
      "metadata": {
        "colab": {
          "base_uri": "https://localhost:8080/"
        },
        "id": "svk8bTOL9_Qu",
        "outputId": "020f6852-1b35-410b-92d6-f5768ba529f6"
      },
      "execution_count": 10,
      "outputs": [
        {
          "output_type": "stream",
          "name": "stdout",
          "text": [
            "+------+-------+------+\n",
            "|userId|movieId|rating|\n",
            "+------+-------+------+\n",
            "|     1|      1|   4.0|\n",
            "|     1|      3|   4.0|\n",
            "|     1|      6|   4.0|\n",
            "|     1|     47|   5.0|\n",
            "|     1|     50|   5.0|\n",
            "|     1|     70|   3.0|\n",
            "|     1|    101|   5.0|\n",
            "|     1|    110|   4.0|\n",
            "|     1|    151|   5.0|\n",
            "|     1|    157|   5.0|\n",
            "|     1|    163|   5.0|\n",
            "|     1|    216|   5.0|\n",
            "|     1|    223|   3.0|\n",
            "|     1|    231|   5.0|\n",
            "|     1|    235|   4.0|\n",
            "|     1|    260|   5.0|\n",
            "|     1|    296|   3.0|\n",
            "|     1|    316|   3.0|\n",
            "|     1|    333|   5.0|\n",
            "|     1|    349|   4.0|\n",
            "+------+-------+------+\n",
            "only showing top 20 rows\n",
            "\n"
          ]
        }
      ]
    },
    {
      "cell_type": "markdown",
      "source": [
        "### 3. Tính toán độ thưa thớt"
      ],
      "metadata": {
        "id": "kQDtz_Yk-DKi"
      }
    },
    {
      "cell_type": "code",
      "source": [
        "# Count the total number of ratings in the dataset\n",
        "numerator = ratings.select(\"rating\").count()\n",
        "print(\"Total number of ratings\", numerator)\n",
        "\n",
        "# Count the number of distinct userIds and distinct movieIds\n",
        "num_users = ratings.select(\"userId\").distinct().count()\n",
        "num_movies = ratings.select(\"movieId\").distinct().count()\n",
        "print(\"Number users\", num_users, \"Number movies\", num_movies)\n",
        "\n",
        "# Set the denominator equal to the number of users multiplied by the number of movies\n",
        "denominator = num_users * num_movies\n",
        "\n",
        "# Divide the numerator by the denominator\n",
        "sparsity = (1.0 - (numerator *1.0)/denominator)*100\n",
        "print(\"The ratings dataframe is \", \"%.2f\" % sparsity + \"% empty.\")"
      ],
      "metadata": {
        "colab": {
          "base_uri": "https://localhost:8080/"
        },
        "id": "b4zE7bNx-ebP",
        "outputId": "4bf91a0b-3c50-4e8f-8587-2c853581e06b"
      },
      "execution_count": 12,
      "outputs": [
        {
          "output_type": "stream",
          "name": "stdout",
          "text": [
            "Total number of ratings 40022\n",
            "Num users 274 Num movies 6222\n",
            "The ratings dataframe is  97.65% empty.\n"
          ]
        }
      ]
    },
    {
      "cell_type": "markdown",
      "source": [
        "### 4. Nhóm dữ liệu bằng cách tính tổng số lượt ratings"
      ],
      "metadata": {
        "id": "OqNtN4r4_JvI"
      }
    },
    {
      "cell_type": "markdown",
      "source": [
        "Nhóm user"
      ],
      "metadata": {
        "id": "klPpJWqd_fdZ"
      }
    },
    {
      "cell_type": "code",
      "source": [
        "# Group data by userId, count ratings\n",
        "userId_ratings = ratings.groupBy(\"userId\").count().orderBy('count', ascending=False)\n",
        "userId_ratings.show()"
      ],
      "metadata": {
        "colab": {
          "base_uri": "https://localhost:8080/"
        },
        "id": "42FweGtO_Vxc",
        "outputId": "9f13c320-affb-4819-ab2e-5d371b9c294c"
      },
      "execution_count": 13,
      "outputs": [
        {
          "output_type": "stream",
          "name": "stdout",
          "text": [
            "+------+-----+\n",
            "|userId|count|\n",
            "+------+-----+\n",
            "|    68| 1260|\n",
            "|   249| 1046|\n",
            "|   182|  977|\n",
            "|   177|  904|\n",
            "|   232|  862|\n",
            "|   274|  793|\n",
            "|   105|  722|\n",
            "|    19|  703|\n",
            "|   111|  646|\n",
            "|   217|  613|\n",
            "|   140|  608|\n",
            "|    91|  575|\n",
            "|    28|  570|\n",
            "|   219|  528|\n",
            "|    89|  518|\n",
            "|    64|  517|\n",
            "|   226|  507|\n",
            "|    18|  502|\n",
            "|    57|  476|\n",
            "|    21|  443|\n",
            "+------+-----+\n",
            "only showing top 20 rows\n",
            "\n"
          ]
        }
      ]
    },
    {
      "cell_type": "markdown",
      "source": [
        "Nhóm movie"
      ],
      "metadata": {
        "id": "2i2Ida0c_htS"
      }
    },
    {
      "cell_type": "code",
      "source": [
        "# Group data by movieId, count ratings\n",
        "movieId_ratings = ratings.groupBy(\"movieId\").count().orderBy('count', ascending=False)\n",
        "movieId_ratings.show()"
      ],
      "metadata": {
        "colab": {
          "base_uri": "https://localhost:8080/"
        },
        "id": "S4gif2y4_jCU",
        "outputId": "d5f748bb-f41c-4764-f58c-8af8ae4aa6c1"
      },
      "execution_count": 14,
      "outputs": [
        {
          "output_type": "stream",
          "name": "stdout",
          "text": [
            "+-------+-----+\n",
            "|movieId|count|\n",
            "+-------+-----+\n",
            "|    296|  144|\n",
            "|    356|  144|\n",
            "|    318|  140|\n",
            "|   2571|  129|\n",
            "|    593|  125|\n",
            "|    260|  113|\n",
            "|    110|  104|\n",
            "|    480|  103|\n",
            "|   1196|  102|\n",
            "|    589|  100|\n",
            "|      1|   99|\n",
            "|   1210|   96|\n",
            "|   1198|   96|\n",
            "|    780|   95|\n",
            "|     47|   95|\n",
            "|    150|   94|\n",
            "|   2858|   90|\n",
            "|    527|   90|\n",
            "|    592|   89|\n",
            "|   2028|   89|\n",
            "+-------+-----+\n",
            "only showing top 20 rows\n",
            "\n"
          ]
        }
      ]
    },
    {
      "cell_type": "markdown",
      "source": [
        "### 5. Xây dựng mô hình ALS"
      ],
      "metadata": {
        "id": "LtC_2X2R_uMB"
      }
    },
    {
      "cell_type": "code",
      "source": [
        "from pyspark.ml.recommendation import ALS"
      ],
      "metadata": {
        "id": "Ppyuetvv_xt_"
      },
      "execution_count": 19,
      "outputs": []
    },
    {
      "cell_type": "code",
      "source": [
        "# Create test and train set\n",
        "(train, test) = ratings.randomSplit([0.8, 0.2], seed = 1234)\n",
        "\n",
        "# Create ALS model\n",
        "als = ALS(userCol=\"userId\", itemCol=\"movieId\", ratingCol=\"rating\", nonnegative = True, implicitPrefs = False, coldStartStrategy=\"drop\")\n",
        "\n",
        "# Confirm that a model called \"als\" was created\n",
        "type(als)"
      ],
      "metadata": {
        "colab": {
          "base_uri": "https://localhost:8080/"
        },
        "id": "zawHWfta_1CN",
        "outputId": "96709a37-c325-473d-cf72-49e585147501"
      },
      "execution_count": 20,
      "outputs": [
        {
          "output_type": "execute_result",
          "data": {
            "text/plain": [
              "pyspark.ml.recommendation.ALS"
            ]
          },
          "metadata": {},
          "execution_count": 20
        }
      ]
    },
    {
      "cell_type": "markdown",
      "source": [
        "Điều chỉnh siêu tham số cho ALS model\n",
        "- rank (rank of the factorization) hạng của thừa số hóa.\n",
        "- regParam (regularization parameter (>= 0)) là tham số chính quy hóa."
      ],
      "metadata": {
        "id": "U9tvd4YjAS_C"
      }
    },
    {
      "cell_type": "code",
      "source": [
        "# Import the requisite items\n",
        "from pyspark.ml.evaluation import RegressionEvaluator\n",
        "from pyspark.ml.tuning import ParamGridBuilder, CrossValidator\n",
        "\n",
        "# Add hyperparameters and their respective values to param_grid\n",
        "param_grid = ParamGridBuilder() \\\n",
        "            .addGrid(als.rank, [10, 50, 100]) \\\n",
        "            .addGrid(als.regParam, [.01, .05, .1]) \\\n",
        "            .build()"
      ],
      "metadata": {
        "id": "A9xpWNz7AYJi"
      },
      "execution_count": 28,
      "outputs": []
    },
    {
      "cell_type": "markdown",
      "source": [
        "Sau đó tạo RegressionEvaluator"
      ],
      "metadata": {
        "id": "tHsB3l2jBkI0"
      }
    },
    {
      "cell_type": "code",
      "source": [
        "# Define evaluator as RMSE and print length of evaluator\n",
        "evaluator = RegressionEvaluator(\n",
        "           metricName=\"rmse\", \n",
        "           labelCol=\"rating\", \n",
        "           predictionCol=\"prediction\") \n",
        "print (\"Num models to be tested: \", len(param_grid))"
      ],
      "metadata": {
        "colab": {
          "base_uri": "https://localhost:8080/"
        },
        "id": "BBBy-sSSByxe",
        "outputId": "f868d05e-25a6-49b9-8f45-300c7e039cb3"
      },
      "execution_count": 29,
      "outputs": [
        {
          "output_type": "stream",
          "name": "stdout",
          "text": [
            "Num models to be tested:  9\n"
          ]
        }
      ]
    },
    {
      "cell_type": "code",
      "source": [
        "# Build cross validation using CrossValidator\n",
        "cv = CrossValidator(estimator=als, estimatorParamMaps=param_grid, evaluator=evaluator, numFolds=5)"
      ],
      "metadata": {
        "id": "tJU7DDNICAco"
      },
      "execution_count": 30,
      "outputs": []
    },
    {
      "cell_type": "markdown",
      "source": [
        "### 6. Kiểm tra các thông số được lựa chọn cho mô hình tốt nhất"
      ],
      "metadata": {
        "id": "cVNGBqNMCELD"
      }
    },
    {
      "cell_type": "code",
      "source": [
        "#Fit cross validator to the 'train' dataset\n",
        "model = cv.fit(train)\n",
        "\n",
        "#Extract best model from the cv model above\n",
        "best_model = model.bestModel"
      ],
      "metadata": {
        "id": "zLvQzplNCbWd"
      },
      "execution_count": 31,
      "outputs": []
    },
    {
      "cell_type": "code",
      "source": [
        "print(\"**Best Model**\")\n",
        "# Print \"Rank\"\n",
        "print(\"  Rank:\", best_model._java_obj.parent().getRank())\n",
        "# Print \"MaxIter\"\n",
        "print(\"  MaxIter:\", best_model._java_obj.parent().getMaxIter())\n",
        "# Print \"RegParam\"\n",
        "print(\"  RegParam:\", best_model._java_obj.parent().getRegParam())"
      ],
      "metadata": {
        "colab": {
          "base_uri": "https://localhost:8080/"
        },
        "id": "omgksmj8CTto",
        "outputId": "b7e647b1-0577-4e33-affe-b12d28b249f8"
      },
      "execution_count": 33,
      "outputs": [
        {
          "output_type": "stream",
          "name": "stdout",
          "text": [
            "**Best Model**\n",
            "  Rank: 100\n",
            "  MaxIter: 10\n",
            "  RegParam: 0.1\n"
          ]
        }
      ]
    },
    {
      "cell_type": "markdown",
      "source": [
        "Xem thử dự đoán"
      ],
      "metadata": {
        "id": "3ZCF1FsqCo65"
      }
    },
    {
      "cell_type": "code",
      "source": [
        "# View the predictions\n",
        "test_predictions = best_model.transform(test)\n",
        "RMSE = evaluator.evaluate(test_predictions)\n",
        "print(RMSE)"
      ],
      "metadata": {
        "colab": {
          "base_uri": "https://localhost:8080/"
        },
        "id": "o9nU-kEwCquS",
        "outputId": "ab69343b-2c31-48d8-e916-e5d568239887"
      },
      "execution_count": 32,
      "outputs": [
        {
          "output_type": "stream",
          "name": "stdout",
          "text": [
            "0.9514086493223866\n"
          ]
        }
      ]
    },
    {
      "cell_type": "code",
      "source": [
        "test_predictions.show()"
      ],
      "metadata": {
        "colab": {
          "base_uri": "https://localhost:8080/"
        },
        "id": "k-SxQo9TflRr",
        "outputId": "c9f805b1-7096-4d95-cc51-1cb0b492ba9c"
      },
      "execution_count": 34,
      "outputs": [
        {
          "output_type": "stream",
          "name": "stdout",
          "text": [
            "+------+-------+------+----------+\n",
            "|userId|movieId|rating|prediction|\n",
            "+------+-------+------+----------+\n",
            "|   108|   1959|   5.0| 3.6098402|\n",
            "|    27|   1580|   3.0| 3.5642745|\n",
            "|    91|   2122|   4.0| 2.8503916|\n",
            "|   157|   3175|   2.0| 3.1136878|\n",
            "|   232|   1580|   3.5|  3.662118|\n",
            "|   232|  44022|   3.0| 2.9948294|\n",
            "|   246|   1645|   4.0|  3.458491|\n",
            "|   111|   1088|   3.0| 3.0659535|\n",
            "|   111|   3175|   3.5| 2.6549397|\n",
            "|    47|   1580|   1.5|   2.59041|\n",
            "|   140|   1580|   3.0| 3.6025956|\n",
            "|   177|   1088|   3.5| 3.4895437|\n",
            "|   177|   3175|   2.0|  3.340192|\n",
            "|   177|  54190|   3.0| 3.4577494|\n",
            "|   274|   1580|   3.0| 3.4999018|\n",
            "|   182|   1645|   4.5|  2.764576|\n",
            "|   218|    471|   4.0| 2.5128827|\n",
            "|   164|   1580|   5.0| 4.1676044|\n",
            "|    57|   1580|   4.0| 3.3473587|\n",
            "|    48|   1580|   5.0| 3.6713548|\n",
            "+------+-------+------+----------+\n",
            "only showing top 20 rows\n",
            "\n"
          ]
        }
      ]
    },
    {
      "cell_type": "markdown",
      "source": [
        "### 7. Đưa ra đề xuất"
      ],
      "metadata": {
        "id": "sI-l1ETPfvjZ"
      }
    },
    {
      "cell_type": "code",
      "source": [
        "# Generate n Recommendations for all users\n",
        "nrecommendations = best_model.recommendForAllUsers(10)\n",
        "nrecommendations.limit(10).show()"
      ],
      "metadata": {
        "colab": {
          "base_uri": "https://localhost:8080/"
        },
        "id": "9EVfMbAff4Iv",
        "outputId": "8ca7d523-edd4-4835-e6dd-715ebb65a411"
      },
      "execution_count": 35,
      "outputs": [
        {
          "output_type": "stream",
          "name": "stdout",
          "text": [
            "+------+--------------------+\n",
            "|userId|     recommendations|\n",
            "+------+--------------------+\n",
            "|     1|[{1658, 5.610651}...|\n",
            "|     2|[{131724, 4.90323...|\n",
            "|     3|[{70946, 4.930261...|\n",
            "|     4|[{3365, 4.9455643...|\n",
            "|     5|[{290, 4.61122}, ...|\n",
            "|     6|[{86, 4.7455153},...|\n",
            "|     7|[{8908, 4.4055104...|\n",
            "|     8|[{1250, 4.50605},...|\n",
            "|     9|[{1250, 4.8904414...|\n",
            "|    10|[{71579, 4.858259...|\n",
            "+------+--------------------+\n",
            "\n"
          ]
        }
      ]
    },
    {
      "cell_type": "code",
      "source": [
        "nrecommendations = nrecommendations\\\n",
        "    .withColumn(\"rec_exp\", explode(\"recommendations\"))\\\n",
        "    .select('userId', col(\"rec_exp.movieId\"), col(\"rec_exp.rating\"))\n",
        "\n",
        "nrecommendations.limit(10).show()"
      ],
      "metadata": {
        "colab": {
          "base_uri": "https://localhost:8080/"
        },
        "id": "sXM4ziP4f-0s",
        "outputId": "129aa071-9ec0-4dad-d954-b167506ba00c"
      },
      "execution_count": 36,
      "outputs": [
        {
          "output_type": "stream",
          "name": "stdout",
          "text": [
            "+------+-------+---------+\n",
            "|userId|movieId|   rating|\n",
            "+------+-------+---------+\n",
            "|     1|   1658| 5.610651|\n",
            "|     1|   1262| 5.216543|\n",
            "|     1|   1250|5.2105474|\n",
            "|     1|   7842| 5.200619|\n",
            "|     1|  58559|5.1815085|\n",
            "|     1|  91529| 5.161586|\n",
            "|     1|   1066| 5.151671|\n",
            "|     1|  49272| 5.148035|\n",
            "|     1|  55118| 5.133019|\n",
            "|     1|   5690| 5.125258|\n",
            "+------+-------+---------+\n",
            "\n"
          ]
        }
      ]
    },
    {
      "cell_type": "markdown",
      "source": [
        "### 8. Các đề xuất có hợp lý không?"
      ],
      "metadata": {
        "id": "OZg_HQ5NgRDp"
      }
    },
    {
      "cell_type": "code",
      "source": [
        "nrecommendations.join(movies, on='movieId').filter('userId = 100').show()"
      ],
      "metadata": {
        "colab": {
          "base_uri": "https://localhost:8080/"
        },
        "id": "tvrtI-hvgS3d",
        "outputId": "6ef2601a-8856-41ef-9702-66394ab14b99"
      },
      "execution_count": 37,
      "outputs": [
        {
          "output_type": "stream",
          "name": "stdout",
          "text": [
            "+-------+------+---------+--------------------+--------------------+\n",
            "|movieId|userId|   rating|               title|              genres|\n",
            "+-------+------+---------+--------------------+--------------------+\n",
            "|   1958|   100|4.7395883|Terms of Endearme...|        Comedy|Drama|\n",
            "|   1658|   100| 4.738078|Life Less Ordinar...|    Romance|Thriller|\n",
            "|  58559|   100|4.6711817|Dark Knight, The ...|Action|Crime|Dram...|\n",
            "|   4041|   100|4.6689363|Officer and a Gen...|       Drama|Romance|\n",
            "|   1250|   100|4.6532607|Bridge on the Riv...| Adventure|Drama|War|\n",
            "| 104374|   100| 4.631496|   About Time (2013)|Drama|Fantasy|Rom...|\n",
            "|   2423|   100| 4.603807|Christmas Vacatio...|              Comedy|\n",
            "|   1096|   100| 4.590178|Sophie's Choice (...|               Drama|\n",
            "|   1066|   100| 4.579955|Shall We Dance (1...|Comedy|Musical|Ro...|\n",
            "|   1284|   100|  4.56247|Big Sleep, The (1...|Crime|Film-Noir|M...|\n",
            "+-------+------+---------+--------------------+--------------------+\n",
            "\n"
          ]
        }
      ]
    },
    {
      "cell_type": "code",
      "source": [
        "ratings.join(movies, on='movieId').filter('userId = 100').sort('rating', ascending=False).show()"
      ],
      "metadata": {
        "colab": {
          "base_uri": "https://localhost:8080/"
        },
        "id": "vpt52f6pgZww",
        "outputId": "3d9294e3-4420-4253-b980-76804087441f"
      },
      "execution_count": 39,
      "outputs": [
        {
          "output_type": "stream",
          "name": "stdout",
          "text": [
            "+-------+------+------+--------------------+--------------------+\n",
            "|movieId|userId|rating|               title|              genres|\n",
            "+-------+------+------+--------------------+--------------------+\n",
            "|   2423|   100|   5.0|Christmas Vacatio...|              Comedy|\n",
            "|   1101|   100|   5.0|      Top Gun (1986)|      Action|Romance|\n",
            "|   4041|   100|   5.0|Officer and a Gen...|       Drama|Romance|\n",
            "|   1958|   100|   5.0|Terms of Endearme...|        Comedy|Drama|\n",
            "|   5620|   100|   5.0|Sweet Home Alabam...|      Comedy|Romance|\n",
            "|    919|   100|   4.5|Wizard of Oz, The...|Adventure|Childre...|\n",
            "|    934|   100|   4.5|Father of the Bri...|              Comedy|\n",
            "|     28|   100|   4.5|   Persuasion (1995)|       Drama|Romance|\n",
            "|     95|   100|   4.5| Broken Arrow (1996)|Action|Adventure|...|\n",
            "|   1028|   100|   4.5| Mary Poppins (1964)|Children|Comedy|F...|\n",
            "|   1091|   100|   4.5|Weekend at Bernie...|              Comedy|\n",
            "|     16|   100|   4.5|       Casino (1995)|         Crime|Drama|\n",
            "|   1246|   100|   4.5|Dead Poets Societ...|               Drama|\n",
            "|   1278|   100|   4.5|Young Frankenstei...|      Comedy|Fantasy|\n",
            "|   1500|   100|   4.5|Grosse Pointe Bla...|Comedy|Crime|Romance|\n",
            "|    261|   100|   4.5| Little Women (1994)|               Drama|\n",
            "|    539|   100|   4.5|Sleepless in Seat...|Comedy|Drama|Romance|\n",
            "|    597|   100|   4.5| Pretty Woman (1990)|      Comedy|Romance|\n",
            "|    838|   100|   4.5|         Emma (1996)|Comedy|Drama|Romance|\n",
            "|   1441|   100|   4.5| Benny & Joon (1993)|      Comedy|Romance|\n",
            "+-------+------+------+--------------------+--------------------+\n",
            "only showing top 20 rows\n",
            "\n"
          ]
        }
      ]
    }
  ]
}